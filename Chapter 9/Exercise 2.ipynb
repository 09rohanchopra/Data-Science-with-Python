{
 "cells": [
  {
   "cell_type": "code",
   "execution_count": null,
   "metadata": {
    "_cell_guid": "b1076dfc-b9ad-4769-8c92-a6c4dae69d19",
    "_uuid": "8f2839f25d086af736a60e9eeb907d3b93b6e0e5"
   },
   "outputs": [],
   "source": [
    "import numpy as np\n",
    "import pandas as pd "
   ]
  },
  {
   "cell_type": "code",
   "execution_count": null,
   "metadata": {},
   "outputs": [],
   "source": [
    "from sklearn.metrics import classification_report\n",
    "import autokeras as ak\n",
    "import os\n",
    "from tqdm import tqdm\n",
    "\n",
    "from PIL import Image\n",
    "import matplotlib.pyplot as plt\n",
    "from sklearn.metrics import accuracy_score\n",
    "from random import shuffle"
   ]
  },
  {
   "cell_type": "code",
   "execution_count": null,
   "metadata": {},
   "outputs": [],
   "source": [
    "TRAINING_TIMES = [\n",
    "    60 * 60, # 1 hour\n",
    "    60 * 60 * 2 # 2 hours\n",
    "]"
   ]
  },
  {
   "cell_type": "code",
   "execution_count": null,
   "metadata": {},
   "outputs": [],
   "source": [
    "SIZE = 50"
   ]
  },
  {
   "cell_type": "code",
   "execution_count": null,
   "metadata": {},
   "outputs": [],
   "source": [
    "PATH = '../input/cats-vs-dogs/train/'"
   ]
  },
  {
   "cell_type": "code",
   "execution_count": null,
   "metadata": {},
   "outputs": [],
   "source": [
    "def get_label(file):\n",
    "    class_label = file.split('.')[0]\n",
    "    if class_label == 'dog': label_vector = 0\n",
    "    elif class_label == 'cat': label_vector = 1\n",
    "    return label_vector"
   ]
  },
  {
   "cell_type": "code",
   "execution_count": null,
   "metadata": {},
   "outputs": [],
   "source": [
    "def get_data():\n",
    "    data = []\n",
    "    files = os.listdir(PATH)\n",
    "    for image in tqdm(files):\n",
    "        \n",
    "        label_vector = get_label(image)\n",
    "        \n",
    "\n",
    "        img = Image.open(PATH + image).convert('L')\n",
    "        img = img.resize((SIZE,SIZE))\n",
    "        \n",
    "        data.append([np.asarray(img),np.array(label_vector)])\n",
    "        \n",
    "    shuffle(data)\n",
    "    return data"
   ]
  },
  {
   "cell_type": "code",
   "execution_count": null,
   "metadata": {},
   "outputs": [],
   "source": [
    "data = get_data()"
   ]
  },
  {
   "cell_type": "code",
   "execution_count": null,
   "metadata": {},
   "outputs": [],
   "source": [
    "train = data[:7000]\n",
    "test = data[7000:]"
   ]
  },
  {
   "cell_type": "code",
   "execution_count": null,
   "metadata": {},
   "outputs": [],
   "source": [
    "x_train = [data[0] for data in train]\n",
    "y_train = [data[1] for data in train]\n",
    "x_test = [data[0] for data in test]\n",
    "y_test = [data[1] for data in test]"
   ]
  },
  {
   "cell_type": "code",
   "execution_count": null,
   "metadata": {},
   "outputs": [],
   "source": [
    "y_train = np.array(y_train)\n",
    "y_test = np.array(y_test)"
   ]
  },
  {
   "cell_type": "code",
   "execution_count": null,
   "metadata": {},
   "outputs": [],
   "source": [
    "x_train = np.array(x_train).reshape(-1,SIZE,SIZE,1)\n",
    "x_test = np.array(x_test).reshape(-1,SIZE,SIZE,1)"
   ]
  },
  {
   "cell_type": "code",
   "execution_count": null,
   "metadata": {},
   "outputs": [],
   "source": [
    "for seconds in TRAINING_TIMES:\n",
    "\n",
    "    print(\"Training model for {} seconds max...\".format(\n",
    "        seconds))\n",
    "    model = ak.ImageClassifier(verbose=True)\n",
    "    model.fit(x_train, y_train, time_limit=seconds)\n",
    "    model.final_fit(x_train, y_train, x_test, y_test, retrain=True)\n",
    "\n",
    "    score = model.evaluate(x_test, y_test)\n",
    "    predictions = model.predict(x_test)\n",
    "    report = classification_report(y_test, predictions,\n",
    "        target_names=['dog', 'cat'])\n",
    "\n",
    "    f = open(\"{}.txt\".format(seconds), \"w\")\n",
    "    f.write(report)\n",
    "    f.write(\"\\nscore: {}\".format(score))\n",
    "    f.close()"
   ]
  },
  {
   "cell_type": "code",
   "execution_count": null,
   "metadata": {},
   "outputs": [],
   "source": []
  }
 ],
 "metadata": {
  "kernelspec": {
   "display_name": "Python 3",
   "language": "python",
   "name": "python3"
  },
  "language_info": {
   "codemirror_mode": {
    "name": "ipython",
    "version": 3
   },
   "file_extension": ".py",
   "mimetype": "text/x-python",
   "name": "python",
   "nbconvert_exporter": "python",
   "pygments_lexer": "ipython3",
   "version": "3.6.7"
  }
 },
 "nbformat": 4,
 "nbformat_minor": 1
}
